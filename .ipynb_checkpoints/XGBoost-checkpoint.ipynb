{
 "cells": [
  {
   "cell_type": "code",
   "execution_count": 1,
   "id": "d45c2147",
   "metadata": {},
   "outputs": [
    {
     "ename": "ModuleNotFoundError",
     "evalue": "No module named 'xgboost'",
     "output_type": "error",
     "traceback": [
      "\u001b[0;31m---------------------------------------------------------------------------\u001b[0m",
      "\u001b[0;31mModuleNotFoundError\u001b[0m                       Traceback (most recent call last)",
      "Cell \u001b[0;32mIn[1], line 2\u001b[0m\n\u001b[1;32m      1\u001b[0m \u001b[38;5;28;01mimport\u001b[39;00m \u001b[38;5;21;01mpandas\u001b[39;00m \u001b[38;5;28;01mas\u001b[39;00m \u001b[38;5;21;01mpd\u001b[39;00m\n\u001b[0;32m----> 2\u001b[0m \u001b[38;5;28;01mimport\u001b[39;00m \u001b[38;5;21;01mxgboost\u001b[39;00m \u001b[38;5;28;01mas\u001b[39;00m \u001b[38;5;21;01mxg\u001b[39;00m\n\u001b[1;32m      3\u001b[0m \u001b[38;5;28;01mimport\u001b[39;00m \u001b[38;5;21;01mnumpy\u001b[39;00m \u001b[38;5;28;01mas\u001b[39;00m \u001b[38;5;21;01mnp\u001b[39;00m\n\u001b[1;32m      4\u001b[0m \u001b[38;5;28;01mimport\u001b[39;00m \u001b[38;5;21;01mmatplotlib\u001b[39;00m \u001b[38;5;28;01mas\u001b[39;00m \u001b[38;5;21;01mplt\u001b[39;00m\n",
      "\u001b[0;31mModuleNotFoundError\u001b[0m: No module named 'xgboost'"
     ]
    }
   ],
   "source": [
    "import pandas as pd\n",
    "import xgboost as xg\n",
    "import numpy as np\n",
    "import matplotlib as plt\n",
    "from sklearn.preprocessing import LabelEncoder, MinMaxScaler\n",
    "from sklearn.model_selection import train_test_split\n",
    "from sklearn.metrics import mean_absolute_error\n",
    "\n",
    "import sqlite3"
   ]
  },
  {
   "cell_type": "code",
   "execution_count": null,
   "id": "c9a9294f",
   "metadata": {},
   "outputs": [],
   "source": [
    "#Street and temp are the tables\n",
    "\n",
    "sqliteConnection = sqlite3.connect('data/crime_data')        \n",
    "read_in = pd.read_sql_query(\"\"\"SELECT *\n",
    "                            FROM street\"\"\", sqliteConnection)  \n",
    "#data = pd.read_csv('metropolitanstreet.csv')\n",
    "#data = read_in\n",
    "#data.head()"
   ]
  },
  {
   "cell_type": "code",
   "execution_count": null,
   "id": "5367edc7",
   "metadata": {},
   "outputs": [],
   "source": [
    "read_in.to_csv('datafull.csv')"
   ]
  },
  {
   "cell_type": "code",
   "execution_count": null,
   "id": "7af29442",
   "metadata": {},
   "outputs": [],
   "source": [
    "data = read_in[read_in['Month'] >= '2020-01']"
   ]
  },
  {
   "cell_type": "code",
   "execution_count": null,
   "id": "38736565",
   "metadata": {},
   "outputs": [],
   "source": [
    "save = data"
   ]
  },
  {
   "cell_type": "markdown",
   "id": "44f640d4",
   "metadata": {},
   "source": [
    "# Data  formatting"
   ]
  },
  {
   "cell_type": "code",
   "execution_count": null,
   "id": "c5ca0977",
   "metadata": {},
   "outputs": [],
   "source": [
    "data = data.sort_values(by=['LSOA name', 'Month'])\n",
    "monthle = LabelEncoder()\n",
    "monthle.fit(data['Month'])\n",
    "data['Month'] = monthle.transform(data['Month'])\n",
    "\n",
    "LSOAle = LabelEncoder()\n",
    "LSOAle.fit(data['LSOA name'])\n",
    "data['LSOAencoded'] = LSOAle.transform(data['LSOA name'])\n",
    "\n",
    "#data = data.drop(['Crime ID', 'Reported by', 'Falls within', 'Longitude', 'Latitude', 'Location', 'LSOA name', 'Last outcome category', 'Context'], axis=1)\n",
    "#data = data.groupby(['Month', 'LSOAencoded']).count()\n",
    "data"
   ]
  },
  {
   "cell_type": "code",
   "execution_count": null,
   "id": "9362cf4a",
   "metadata": {},
   "outputs": [],
   "source": [
    "preprocess = data[['Month', 'LSOAencoded', 'Crime type', 'Index']]\n",
    "preprocess.sort_values(by=['LSOAencoded', 'Month'])\n",
    "preprocess = preprocess.groupby(['LSOAencoded', 'Month', 'Crime type']).count()\n",
    "#preprocess = preprocess.reset_index()\n",
    "preprocess"
   ]
  },
  {
   "cell_type": "code",
   "execution_count": null,
   "id": "37513416",
   "metadata": {},
   "outputs": [],
   "source": [
    "#This is to group by first LSOAcode and then month to achieve counts of different crimes\n",
    "processed = preprocess.unstack(level=2)\n",
    "processed = processed.fillna(0)\n",
    "processed = processed['Index']\n",
    "processed"
   ]
  },
  {
   "cell_type": "code",
   "execution_count": null,
   "id": "63ee6276",
   "metadata": {},
   "outputs": [],
   "source": [
    "processed[39:76]"
   ]
  },
  {
   "cell_type": "code",
   "execution_count": null,
   "id": "12e357b3",
   "metadata": {},
   "outputs": [],
   "source": [
    "#Here the target column is created and the Burglary values are shifted by 1 index, such that for each month, gets\n",
    "#the previous month's burglary amount. Then the first months are dropped, since we have garbage in those fields.\n",
    "processed['target'] = -1\n",
    "prevburglary = -1\n",
    "for index in processed.index:\n",
    "    if(prevburglary == -1):\n",
    "        prevburglary = processed['Burglary'][index[0]][index[1]]\n",
    "    else:\n",
    "        processed['target'][index[0]][index[1]] = prevburglary\n",
    "        prevburglary = processed['Burglary'][index[0]][index[1]]\n",
    "\n",
    "for index in processed.index:\n",
    "    if(index[1] == 0):\n",
    "        processed = processed.drop([index])\n",
    "processed"
   ]
  },
  {
   "cell_type": "code",
   "execution_count": null,
   "id": "ed5c203c",
   "metadata": {},
   "outputs": [],
   "source": [
    "#Here we reset the index, such that the LSOAcodes and months no longer are indexes, so that we can use them as features.\n",
    "processed = processed.reset_index().sort_values(by=['Month', 'LSOAencoded'])\n",
    "processed"
   ]
  },
  {
   "cell_type": "code",
   "execution_count": null,
   "id": "bb8d428f",
   "metadata": {},
   "outputs": [],
   "source": [
    "#By changing the lsoacode variable, you can see different lsoacode's burglary rate.\n",
    "Lsoacode = 3\n",
    "processed = processed.reset_index()\n",
    "processed[processed['LSOAencoded'] == Lsoacode]['target'].plot()"
   ]
  },
  {
   "cell_type": "code",
   "execution_count": null,
   "id": "2fbe9eed",
   "metadata": {},
   "outputs": [],
   "source": [
    "processed[8000:]['target'].plot()"
   ]
  },
  {
   "cell_type": "code",
   "execution_count": null,
   "id": "7151050b",
   "metadata": {},
   "outputs": [],
   "source": [
    "y_true = processed[processed['Month'] > 30]['target']\n",
    "len(y_true)"
   ]
  },
  {
   "cell_type": "code",
   "execution_count": null,
   "id": "692010cc",
   "metadata": {},
   "outputs": [],
   "source": [
    "#Here we are scaling the features, to accomodate XGBoost's requirements for features. We are creating vectors for machine learning.\n",
    "features = ['LSOAencoded', 'Month', 'Anti-social behaviour', 'Bicycle theft', 'Burglary', 'Criminal damage and arson', \n",
    "            'Drugs', 'Other crime', 'Other theft', 'Possession of weapons', 'Public order', 'Robbery', 'Shoplifting',\n",
    "           'Theft from the person', 'Vehicle crime', 'Violence and sexual offences']\n",
    "scaler = MinMaxScaler()\n",
    "array = processed[features]\n",
    "array[features] = scaler.fit_transform(processed[features])\n",
    "array"
   ]
  },
  {
   "cell_type": "code",
   "execution_count": null,
   "id": "b15c7959",
   "metadata": {},
   "outputs": [],
   "source": [
    "len(array), len(y_true)"
   ]
  },
  {
   "cell_type": "code",
   "execution_count": null,
   "id": "de3e9b96",
   "metadata": {},
   "outputs": [],
   "source": [
    "y_true.reset_index()\n",
    "y_true"
   ]
  },
  {
   "cell_type": "code",
   "execution_count": null,
   "id": "5480731e",
   "metadata": {},
   "outputs": [],
   "source": [
    "#Assigning the training and testing datasets, with a circa 80-20 split\n",
    "X_train = array[:6319]\n",
    "y_train = processed[processed['Month'] <= 30]['target']\n",
    "X_test = array[6319:]\n",
    "y_test = processed[processed['Month'] > 30]['target']\n",
    "len(X_train), len(X_test), len(y_train), len(y_test)"
   ]
  },
  {
   "cell_type": "markdown",
   "id": "395e0ed9",
   "metadata": {},
   "source": [
    "# Model setup"
   ]
  },
  {
   "cell_type": "code",
   "execution_count": null,
   "id": "d4bc0606",
   "metadata": {},
   "outputs": [],
   "source": [
    "# create model\n",
    "model = xg.XGBRFRegressor(n_estimators=200, max_depth=12, learning_rate=1)#objective='binary:logistic')\n",
    "# fit model\n",
    "model.fit(X_train, y_train)\n",
    "# make predictions\n",
    "preds = model.predict(X_test)\n",
    "preds"
   ]
  },
  {
   "cell_type": "code",
   "execution_count": null,
   "id": "7b3dc8b0",
   "metadata": {},
   "outputs": [],
   "source": [
    "#preds = scaler.inverse_transform(preds.reshape(-1, 1))\n",
    "#preds.reshape()\n",
    "#preds.max()\n",
    "X_test.shape, y_true.shape, preds.shape"
   ]
  },
  {
   "cell_type": "code",
   "execution_count": null,
   "id": "681bbff2",
   "metadata": {},
   "outputs": [],
   "source": [
    "#Here we get the mean absolute error of the predictions compared to the truth values on the test set.\n",
    "mae = mean_absolute_error(y_true, preds)\n",
    "mae"
   ]
  },
  {
   "cell_type": "code",
   "execution_count": null,
   "id": "bee85168",
   "metadata": {},
   "outputs": [],
   "source": [
    "#Here is a plot of the predictions\n",
    "pd.Series(preds.ravel()).plot()"
   ]
  },
  {
   "cell_type": "code",
   "execution_count": null,
   "id": "5a99a3ea",
   "metadata": {},
   "outputs": [],
   "source": [
    "#Here is a plot of the true values\n",
    "y_true.plot()"
   ]
  }
 ],
 "metadata": {
  "kernelspec": {
   "display_name": "Python 3 (ipykernel)",
   "language": "python",
   "name": "python3"
  },
  "language_info": {
   "codemirror_mode": {
    "name": "ipython",
    "version": 3
   },
   "file_extension": ".py",
   "mimetype": "text/x-python",
   "name": "python",
   "nbconvert_exporter": "python",
   "pygments_lexer": "ipython3",
   "version": "3.9.16"
  }
 },
 "nbformat": 4,
 "nbformat_minor": 5
}
